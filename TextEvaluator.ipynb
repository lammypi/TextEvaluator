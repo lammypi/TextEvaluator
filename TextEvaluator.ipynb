{
 "cells": [
  {
   "cell_type": "raw",
   "id": "3d46a3c2-1139-4b31-9491-ce0b88115609",
   "metadata": {},
   "source": [
    "---\n",
    "title: Text Evaluator\n",
    "author: Leslie A. McFarlin, Principal UX Architect @ Wheels\n",
    "description: Evaluates text for readability, complexity, and grade level.\n",
    "show-code: False\n",
    "params:\n",
    "    input_textblock: \n",
    "        input: text\n",
    "        label: Enter the text to evaluate\n",
    "        rows: 10\n",
    "---"
   ]
  },
  {
   "cell_type": "code",
   "execution_count": 5,
   "id": "33889d57-c8fa-4e87-bac4-0bfd51bf57cd",
   "metadata": {},
   "outputs": [],
   "source": [
    "##### IMPORTS #####\n",
    "import matplotlib.pyplot as plt\n",
    "import matplotlib.patheffects as path_effects\n",
    "\n",
    "##### INCLUDES #####\n",
    "#%load_ext autoreload\n",
    "#%autoreload 2\n",
    "from main import *"
   ]
  },
  {
   "cell_type": "code",
   "execution_count": 6,
   "id": "4a182522-4aed-48ab-b2fd-b47afc3a468c",
   "metadata": {},
   "outputs": [],
   "source": [
    "##### INITIAL VARIABLES #####\n",
    "# Text\n",
    "input_textblock = ''"
   ]
  },
  {
   "cell_type": "code",
   "execution_count": 7,
   "id": "17ebc98e-9d23-40cf-9934-eac2811ed724",
   "metadata": {},
   "outputs": [],
   "source": [
    "##### GATHER THE OUTPUT #####\n",
    "# Aggregate readability score\n",
    "readability_score = overallReadability(input_textblock)\n",
    "\n",
    "\n",
    "# Calculate the reading time\n",
    "reading_time = readingTime(input_textblock)\n",
    "# Calculate sentence counts\n",
    "sentence_count = sentenceCount(input_textblock)\n",
    "# Calculate letter counts\n",
    "letter_count = letterCount(input_textblock)\n",
    "\n",
    "# Create data table\n",
    "data = [['Readability Score', readability_score],\n",
    "        ['Reading Time', reading_time],\n",
    "        ['Sentence Count', sentence_count],\n",
    "        ['Letter Count', letter_count]]\n",
    "\n",
    "# Headers\n",
    "columns = ['Calculation', 'Value']"
   ]
  },
  {
   "cell_type": "code",
   "execution_count": 8,
   "id": "c45803ef-7a8b-40ee-81d0-3614b3eb8f3a",
   "metadata": {},
   "outputs": [
    {
     "name": "stdout",
     "output_type": "stream",
     "text": [
      "Enter some text at the left to get started.\n"
     ]
    }
   ],
   "source": [
    "##### DISPLAY #####\n",
    "# Display output only if input_textblock has text\n",
    "if input_textblock != '':\n",
    "    # Set parameters\n",
    "    plt.rcParams[\"figure.figsize\"] = (12,10)\n",
    "\n",
    "    # Build the first plot\n",
    "    plt.subplot(1, 2, 1)\n",
    "    input_text = plt.text(0.5, 0.5, ha='left', va='top', s=input_textblock, wrap=True)\n",
    "    plt.axis('off')\n",
    "    plt.grid(visible='None')\n",
    "\n",
    "    # Second plot\n",
    "    plt.subplot(1, 2, 2)\n",
    "    table_text = plt.table(cellText=data,\n",
    "                           colLabels=columns,\n",
    "                           cellLoc='left',\n",
    "                           loc = 'bottom')\n",
    "    cellDict = table_text.get_celld()\n",
    "    for i in range(0,len(columns)):\n",
    "        cellDict[(0,i)].set_height(.1)\n",
    "        for j in range(1,len(data)+1):\n",
    "            cellDict[(j,i)].set_height(.1)\n",
    "    plt.axis('off')\n",
    "    plt.grid(visible='None')\n",
    "\n",
    "    # View\n",
    "    plt.show()\n",
    "# Otherwise show a message\n",
    "else:\n",
    "    print('Enter some text at the left to get started.')"
   ]
  },
  {
   "cell_type": "code",
   "execution_count": null,
   "id": "92ad5757-8622-4b66-83e4-24a6b7644829",
   "metadata": {},
   "outputs": [],
   "source": []
  }
 ],
 "metadata": {
  "kernelspec": {
   "display_name": "Python 3 (ipykernel)",
   "language": "python",
   "name": "python3"
  },
  "language_info": {
   "codemirror_mode": {
    "name": "ipython",
    "version": 3
   },
   "file_extension": ".py",
   "mimetype": "text/x-python",
   "name": "python",
   "nbconvert_exporter": "python",
   "pygments_lexer": "ipython3",
   "version": "3.9.12"
  }
 },
 "nbformat": 4,
 "nbformat_minor": 5
}
